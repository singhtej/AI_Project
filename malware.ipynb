{
 "cells": [
  {
   "cell_type": "markdown",
   "metadata": {},
   "source": [
    "# Name: Tejveer Singh\n",
    "# Matriculation Number : 11010863"
   ]
  },
  {
   "cell_type": "code",
   "execution_count": 1,
   "metadata": {},
   "outputs": [
    {
     "name": "stderr",
     "output_type": "stream",
     "text": [
      "C:\\Users\\11010863\\AppData\\Local\\Continuum\\anaconda2\\lib\\site-packages\\sklearn\\ensemble\\weight_boosting.py:29: DeprecationWarning: numpy.core.umath_tests is an internal NumPy module and should not be imported. It will be removed in a future NumPy release.\n",
      "  from numpy.core.umath_tests import inner1d\n"
     ]
    }
   ],
   "source": [
    "import numpy as np\n",
    "import pandas as pd\n",
    "import matplotlib.pyplot as plt\n",
    "import seaborn as sb\n",
    "import os\n",
    "from sklearn.feature_extraction.text import CountVectorizer\n",
    "from sklearn.svm import SVC\n",
    "from sklearn.model_selection import train_test_split\n",
    "from sklearn.metrics import accuracy_score,f1_score,precision_score,recall_score\n",
    "from sklearn.ensemble import RandomForestClassifier\n",
    "from sklearn.model_selection import GridSearchCV\n",
    "import warnings\n",
    "warnings.filterwarnings('ignore')"
   ]
  },
  {
   "cell_type": "code",
   "execution_count": 2,
   "metadata": {
    "scrolled": true
   },
   "outputs": [
    {
     "data": {
      "text/html": [
       "<div>\n",
       "<style scoped>\n",
       "    .dataframe tbody tr th:only-of-type {\n",
       "        vertical-align: middle;\n",
       "    }\n",
       "\n",
       "    .dataframe tbody tr th {\n",
       "        vertical-align: top;\n",
       "    }\n",
       "\n",
       "    .dataframe thead th {\n",
       "        text-align: right;\n",
       "    }\n",
       "</style>\n",
       "<table border=\"1\" class=\"dataframe\">\n",
       "  <thead>\n",
       "    <tr style=\"text-align: right;\">\n",
       "      <th></th>\n",
       "      <th>sha256</th>\n",
       "      <th>family</th>\n",
       "    </tr>\n",
       "  </thead>\n",
       "  <tbody>\n",
       "    <tr>\n",
       "      <th>0</th>\n",
       "      <td>090b5be26bcc4df6186124c2b47831eb96761fcf61282d...</td>\n",
       "      <td>Plankton</td>\n",
       "    </tr>\n",
       "    <tr>\n",
       "      <th>1</th>\n",
       "      <td>bedf51a5732d94c173bcd8ed918333954f5a78307c2a2f...</td>\n",
       "      <td>DroidKungFu</td>\n",
       "    </tr>\n",
       "    <tr>\n",
       "      <th>2</th>\n",
       "      <td>149bde78b32be3c4c25379dd6c3310ce08eaf58804067a...</td>\n",
       "      <td>Plankton</td>\n",
       "    </tr>\n",
       "    <tr>\n",
       "      <th>3</th>\n",
       "      <td>dd11c105ec8bb3c851f5955fa53eebb91b7dc46bef4d91...</td>\n",
       "      <td>GinMaster</td>\n",
       "    </tr>\n",
       "    <tr>\n",
       "      <th>4</th>\n",
       "      <td>6832234c4eae7a57be4f68271b7eecb056c4cd8352c67d...</td>\n",
       "      <td>FakeDoc</td>\n",
       "    </tr>\n",
       "  </tbody>\n",
       "</table>\n",
       "</div>"
      ],
      "text/plain": [
       "                                              sha256       family\n",
       "0  090b5be26bcc4df6186124c2b47831eb96761fcf61282d...     Plankton\n",
       "1  bedf51a5732d94c173bcd8ed918333954f5a78307c2a2f...  DroidKungFu\n",
       "2  149bde78b32be3c4c25379dd6c3310ce08eaf58804067a...     Plankton\n",
       "3  dd11c105ec8bb3c851f5955fa53eebb91b7dc46bef4d91...    GinMaster\n",
       "4  6832234c4eae7a57be4f68271b7eecb056c4cd8352c67d...      FakeDoc"
      ]
     },
     "execution_count": 2,
     "metadata": {},
     "output_type": "execute_result"
    }
   ],
   "source": [
    "data  = pd.read_csv(\"sha256_family.csv\")\n",
    "data.head()"
   ]
  },
  {
   "cell_type": "code",
   "execution_count": 3,
   "metadata": {},
   "outputs": [],
   "source": [
    "X = data['sha256']\n",
    "Y = data['family']\n",
    "\n",
    "\n",
    "S1 = [\"feature\"]\n",
    "S2 = [\"permission\"]\n",
    "S3 = [\"activity\",\"service_revceiver\",\"service\",\"provider\"]\n",
    "S4 = [\"intent\"]\n",
    "S5 = [\"api_call\"]\n",
    "S6 = [\"real_permission\"]\n",
    "S7 = [\"call\"]\n",
    "S8 = [\"url\"]\n"
   ]
  },
  {
   "cell_type": "markdown",
   "metadata": {},
   "source": [
    "\n",
    "<p> What i did here is i seprate the X and Y values where X is input data and Y is label </p>\n",
    "<p> S1,S2....S8 are the features </p>"
   ]
  },
  {
   "cell_type": "code",
   "execution_count": 4,
   "metadata": {},
   "outputs": [],
   "source": [
    "def make_dataset(d_data,feature,name):\n",
    "    if d_data in feature:\n",
    "                    if dict_.get(name) ==None:\n",
    "                        dict_[name] = 1\n",
    "                    else:\n",
    "                        dict_[name] = dict_.get(name) + 1\n",
    "    "
   ]
  },
  {
   "cell_type": "code",
   "execution_count": 5,
   "metadata": {},
   "outputs": [],
   "source": [
    "folder = \"feature_vectors/\"\n",
    "dict_  = {}\n",
    "temp = []\n",
    "for file_name in X:\n",
    "    dict_ = {}\n",
    "    with open(folder+''+file_name,'r') as fp:\n",
    "        try:\n",
    "            for line in fp:\n",
    "                splitted_data = line.split(\"::\")\n",
    "                \n",
    "                #Creating the data set from features \n",
    "                make_dataset(splitted_data[0],S1,\"S1\")\n",
    "                make_dataset(splitted_data[0],S2,\"S2\")\n",
    "                make_dataset(splitted_data[0],S3,\"S3\")\n",
    "                make_dataset(splitted_data[0],S4,\"S4\")\n",
    "                make_dataset(splitted_data[0],S5,\"S5\")\n",
    "                make_dataset(splitted_data[0],S6,\"S6\")\n",
    "                make_dataset(splitted_data[0],S7,\"S7\")\n",
    "                make_dataset(splitted_data[0],S8,\"S8\")                    \n",
    "                \n",
    "            temp.append(dict_)\n",
    "                   \n",
    "                \n",
    "        except:\n",
    "            continue\n",
    "    \n"
   ]
  },
  {
   "cell_type": "markdown",
   "metadata": {},
   "source": [
    "<b> How I am making the dataset ?</b>\n",
    "    <p> I am using different approach basically what i am doing is , I am counting the number of time \n",
    "        the particular feature occur </p>\n",
    "    <p> than I am coverting it to data frame </p>\n",
    "    <p> So I am reading the .csv file and for every row in the csv file we have the file name which represent one of the file in the feature vector so i am opening the file and  sending it to make_dataset function which is doing all the counting \n",
    "        logic</p>"
   ]
  },
  {
   "cell_type": "markdown",
   "metadata": {},
   "source": [
    "<h1>#lets make the data set </h1>\n",
    "    <b> So I have my dictionary inside the list now i need to put them in dataframe , they will convert it to \n",
    "        Standard DataFrame </b>"
   ]
  },
  {
   "cell_type": "code",
   "execution_count": 6,
   "metadata": {},
   "outputs": [],
   "source": [
    "\n",
    "malware_data  = pd.DataFrame(temp)\n",
    "malware_data  = pd.concat([malware_data,Y],axis=1)\n"
   ]
  },
  {
   "cell_type": "markdown",
   "metadata": {},
   "source": [
    "<b>\n",
    "    <ol>\n",
    "        <li>As we can see below that most of the value are null</li>\n",
    "        <li>what we will do is the feature more than 20 % of the value NAN we will remove that feature</li> \n",
    "        \n",
    "\n",
    "</b>"
   ]
  },
  {
   "cell_type": "code",
   "execution_count": 7,
   "metadata": {},
   "outputs": [
    {
     "data": {
      "text/plain": [
       "S1          36\n",
       "S2          50\n",
       "S3         106\n",
       "S4          36\n",
       "S5         149\n",
       "S6         156\n",
       "S7         224\n",
       "S8        1671\n",
       "family       0\n",
       "dtype: int64"
      ]
     },
     "execution_count": 7,
     "metadata": {},
     "output_type": "execute_result"
    }
   ],
   "source": [
    "malware_data.isnull().sum()\n"
   ]
  },
  {
   "cell_type": "markdown",
   "metadata": {},
   "source": [
    "<h4>What are we doing here ?</h4>\n",
    "    <ol> <li> I am Trying to make a new dataFrame of the features which have null values</li>\n",
    "    <li> Than I am finding the percentage of the feature which have null value </li>"
   ]
  },
  {
   "cell_type": "code",
   "execution_count": 8,
   "metadata": {},
   "outputs": [
    {
     "data": {
      "text/html": [
       "<div>\n",
       "<style scoped>\n",
       "    .dataframe tbody tr th:only-of-type {\n",
       "        vertical-align: middle;\n",
       "    }\n",
       "\n",
       "    .dataframe tbody tr th {\n",
       "        vertical-align: top;\n",
       "    }\n",
       "\n",
       "    .dataframe thead th {\n",
       "        text-align: right;\n",
       "    }\n",
       "</style>\n",
       "<table border=\"1\" class=\"dataframe\">\n",
       "  <thead>\n",
       "    <tr style=\"text-align: right;\">\n",
       "      <th></th>\n",
       "      <th>0</th>\n",
       "      <th>1</th>\n",
       "      <th>percentage_of_missing_data</th>\n",
       "    </tr>\n",
       "  </thead>\n",
       "  <tbody>\n",
       "    <tr>\n",
       "      <th>0</th>\n",
       "      <td>S1</td>\n",
       "      <td>36</td>\n",
       "      <td>1.482702</td>\n",
       "    </tr>\n",
       "    <tr>\n",
       "      <th>1</th>\n",
       "      <td>S2</td>\n",
       "      <td>50</td>\n",
       "      <td>2.059308</td>\n",
       "    </tr>\n",
       "    <tr>\n",
       "      <th>2</th>\n",
       "      <td>S3</td>\n",
       "      <td>106</td>\n",
       "      <td>4.365733</td>\n",
       "    </tr>\n",
       "    <tr>\n",
       "      <th>3</th>\n",
       "      <td>S4</td>\n",
       "      <td>36</td>\n",
       "      <td>1.482702</td>\n",
       "    </tr>\n",
       "    <tr>\n",
       "      <th>4</th>\n",
       "      <td>S5</td>\n",
       "      <td>149</td>\n",
       "      <td>6.136738</td>\n",
       "    </tr>\n",
       "    <tr>\n",
       "      <th>5</th>\n",
       "      <td>S6</td>\n",
       "      <td>156</td>\n",
       "      <td>6.425041</td>\n",
       "    </tr>\n",
       "    <tr>\n",
       "      <th>6</th>\n",
       "      <td>S7</td>\n",
       "      <td>224</td>\n",
       "      <td>9.225700</td>\n",
       "    </tr>\n",
       "    <tr>\n",
       "      <th>7</th>\n",
       "      <td>S8</td>\n",
       "      <td>1671</td>\n",
       "      <td>68.822076</td>\n",
       "    </tr>\n",
       "    <tr>\n",
       "      <th>8</th>\n",
       "      <td>family</td>\n",
       "      <td>0</td>\n",
       "      <td>0.000000</td>\n",
       "    </tr>\n",
       "  </tbody>\n",
       "</table>\n",
       "</div>"
      ],
      "text/plain": [
       "        0     1  percentage_of_missing_data\n",
       "0      S1    36                    1.482702\n",
       "1      S2    50                    2.059308\n",
       "2      S3   106                    4.365733\n",
       "3      S4    36                    1.482702\n",
       "4      S5   149                    6.136738\n",
       "5      S6   156                    6.425041\n",
       "6      S7   224                    9.225700\n",
       "7      S8  1671                   68.822076\n",
       "8  family     0                    0.000000"
      ]
     },
     "execution_count": 8,
     "metadata": {},
     "output_type": "execute_result"
    }
   ],
   "source": [
    "missing_value = malware_data.isnull().sum()\n",
    "name  = pd.Series(missing_value.keys())\n",
    "value = pd.Series(missing_value.values)\n",
    "missing_value_data  = pd.concat([name,value],axis=1)\n",
    "missing_value_data[\"percentage_of_missing_data\"]  = (missing_value_data[1]/np.sum(missing_value_data[1]))*100\n",
    "missing_value_data"
   ]
  },
  {
   "cell_type": "markdown",
   "metadata": {},
   "source": [
    "<b>\n",
    "<ol>\n",
    "    <li>by looking at this data we can see that most of the value in S8 family is missing, its 68.822%  </li>\n",
    "    <li>threshold set by us is 20 % and S8 has almost 68 percent missing value </li>\n",
    "    <li>we can get rid of this column and fill rest of the column with either mean and median </li>\n",
    "    \n",
    "   <b/>"
   ]
  },
  {
   "cell_type": "code",
   "execution_count": 9,
   "metadata": {},
   "outputs": [],
   "source": [
    "malware_data.drop(\"S8\",axis=1,inplace=True) # Dropping the S8 column"
   ]
  },
  {
   "cell_type": "markdown",
   "metadata": {},
   "source": [
    "<b>\n",
    "<ol>\n",
    "    <li>This Function replace the NaN value with median value </li>\n",
    "    <li>Why median ? </li>\n",
    "    <li>because it does not get effected with outlier </li>\n",
    "    </b> "
   ]
  },
  {
   "cell_type": "code",
   "execution_count": 10,
   "metadata": {},
   "outputs": [],
   "source": [
    "# function replace NaN with median\n",
    "def fill_value_with_median(feature_name):\n",
    "    for name in feature_name:\n",
    "        median_v = malware_data[name].median()\n",
    "        malware_data[name].replace(np.nan,median_v,inplace=True)\n",
    "        \n",
    "fill_value_with_median([\"S1\",\"S2\",\"S3\",\"S4\",\"S5\",\"S6\",\"S7\"])"
   ]
  },
  {
   "cell_type": "code",
   "execution_count": 11,
   "metadata": {},
   "outputs": [
    {
     "name": "stdout",
     "output_type": "stream",
     "text": [
      "    S1    S2    S3   S4    S5    S6    S7       family\n",
      "0  6.0  24.0   1.0  4.0  10.0   9.0   5.0     Plankton\n",
      "1  2.0   7.0   6.0  5.0  10.0   9.0  10.0  DroidKungFu\n",
      "2  3.0  22.0   1.0  4.0   9.0   8.0   5.0     Plankton\n",
      "3  7.0  12.0  11.0  4.0  10.0   9.0   9.0    GinMaster\n",
      "4  4.0  23.0   4.0  7.0  17.0  16.0  10.0      FakeDoc\n",
      "\n",
      "\n",
      "Null Value\n",
      "S1        0\n",
      "S2        0\n",
      "S3        0\n",
      "S4        0\n",
      "S5        0\n",
      "S6        0\n",
      "S7        0\n",
      "family    0\n",
      "dtype: int64\n"
     ]
    }
   ],
   "source": [
    "print(malware_data.head())\n",
    "print(\"\\n\")\n",
    "print(\"Null Value\")\n",
    "print(malware_data.isnull().sum())\n"
   ]
  },
  {
   "cell_type": "markdown",
   "metadata": {},
   "source": [
    "<h1>Data is ready lets see the data more deeply and try to understand ?</h1>"
   ]
  },
  {
   "cell_type": "code",
   "execution_count": 12,
   "metadata": {
    "scrolled": true
   },
   "outputs": [
    {
     "data": {
      "text/html": [
       "<div>\n",
       "<style scoped>\n",
       "    .dataframe tbody tr th:only-of-type {\n",
       "        vertical-align: middle;\n",
       "    }\n",
       "\n",
       "    .dataframe tbody tr th {\n",
       "        vertical-align: top;\n",
       "    }\n",
       "\n",
       "    .dataframe thead th {\n",
       "        text-align: right;\n",
       "    }\n",
       "</style>\n",
       "<table border=\"1\" class=\"dataframe\">\n",
       "  <thead>\n",
       "    <tr style=\"text-align: right;\">\n",
       "      <th></th>\n",
       "      <th>S1</th>\n",
       "      <th>S2</th>\n",
       "      <th>S3</th>\n",
       "      <th>S4</th>\n",
       "      <th>S5</th>\n",
       "      <th>S6</th>\n",
       "      <th>S7</th>\n",
       "    </tr>\n",
       "  </thead>\n",
       "  <tbody>\n",
       "    <tr>\n",
       "      <th>count</th>\n",
       "      <td>5560.000000</td>\n",
       "      <td>5560.000000</td>\n",
       "      <td>5560.000000</td>\n",
       "      <td>5560.000000</td>\n",
       "      <td>5560.000000</td>\n",
       "      <td>5560.000000</td>\n",
       "      <td>5560.000000</td>\n",
       "    </tr>\n",
       "    <tr>\n",
       "      <th>mean</th>\n",
       "      <td>3.725899</td>\n",
       "      <td>11.857194</td>\n",
       "      <td>3.671043</td>\n",
       "      <td>4.434532</td>\n",
       "      <td>7.033633</td>\n",
       "      <td>6.208993</td>\n",
       "      <td>6.508094</td>\n",
       "    </tr>\n",
       "    <tr>\n",
       "      <th>std</th>\n",
       "      <td>1.915102</td>\n",
       "      <td>7.313559</td>\n",
       "      <td>4.405661</td>\n",
       "      <td>2.582761</td>\n",
       "      <td>3.710584</td>\n",
       "      <td>3.502348</td>\n",
       "      <td>3.426551</td>\n",
       "    </tr>\n",
       "    <tr>\n",
       "      <th>min</th>\n",
       "      <td>1.000000</td>\n",
       "      <td>1.000000</td>\n",
       "      <td>1.000000</td>\n",
       "      <td>1.000000</td>\n",
       "      <td>1.000000</td>\n",
       "      <td>1.000000</td>\n",
       "      <td>1.000000</td>\n",
       "    </tr>\n",
       "    <tr>\n",
       "      <th>25%</th>\n",
       "      <td>2.000000</td>\n",
       "      <td>6.000000</td>\n",
       "      <td>1.000000</td>\n",
       "      <td>2.000000</td>\n",
       "      <td>4.000000</td>\n",
       "      <td>3.000000</td>\n",
       "      <td>4.000000</td>\n",
       "    </tr>\n",
       "    <tr>\n",
       "      <th>50%</th>\n",
       "      <td>3.000000</td>\n",
       "      <td>10.000000</td>\n",
       "      <td>2.000000</td>\n",
       "      <td>4.000000</td>\n",
       "      <td>7.000000</td>\n",
       "      <td>6.000000</td>\n",
       "      <td>6.000000</td>\n",
       "    </tr>\n",
       "    <tr>\n",
       "      <th>75%</th>\n",
       "      <td>5.000000</td>\n",
       "      <td>17.000000</td>\n",
       "      <td>4.000000</td>\n",
       "      <td>5.000000</td>\n",
       "      <td>10.000000</td>\n",
       "      <td>9.000000</td>\n",
       "      <td>9.000000</td>\n",
       "    </tr>\n",
       "    <tr>\n",
       "      <th>max</th>\n",
       "      <td>11.000000</td>\n",
       "      <td>109.000000</td>\n",
       "      <td>56.000000</td>\n",
       "      <td>48.000000</td>\n",
       "      <td>20.000000</td>\n",
       "      <td>19.000000</td>\n",
       "      <td>20.000000</td>\n",
       "    </tr>\n",
       "  </tbody>\n",
       "</table>\n",
       "</div>"
      ],
      "text/plain": [
       "                S1           S2           S3           S4           S5  \\\n",
       "count  5560.000000  5560.000000  5560.000000  5560.000000  5560.000000   \n",
       "mean      3.725899    11.857194     3.671043     4.434532     7.033633   \n",
       "std       1.915102     7.313559     4.405661     2.582761     3.710584   \n",
       "min       1.000000     1.000000     1.000000     1.000000     1.000000   \n",
       "25%       2.000000     6.000000     1.000000     2.000000     4.000000   \n",
       "50%       3.000000    10.000000     2.000000     4.000000     7.000000   \n",
       "75%       5.000000    17.000000     4.000000     5.000000    10.000000   \n",
       "max      11.000000   109.000000    56.000000    48.000000    20.000000   \n",
       "\n",
       "                S6           S7  \n",
       "count  5560.000000  5560.000000  \n",
       "mean      6.208993     6.508094  \n",
       "std       3.502348     3.426551  \n",
       "min       1.000000     1.000000  \n",
       "25%       3.000000     4.000000  \n",
       "50%       6.000000     6.000000  \n",
       "75%       9.000000     9.000000  \n",
       "max      19.000000    20.000000  "
      ]
     },
     "execution_count": 12,
     "metadata": {},
     "output_type": "execute_result"
    }
   ],
   "source": [
    "malware_data.describe() # describe function gives us more information of the data "
   ]
  },
  {
   "cell_type": "markdown",
   "metadata": {},
   "source": [
    "<b>\n",
    "<ol>\n",
    "    <li>By looking at this Description of data I can say that No missing value is their in data </li>\n",
    "    <li>Data Not Seems to be normally distributed </li>\n",
    "    <li>Their are some outlier present as the difference between min value and max value is more </li>\n",
    "  </b>"
   ]
  },
  {
   "cell_type": "code",
   "execution_count": 13,
   "metadata": {},
   "outputs": [
    {
     "data": {
      "image/png": "[encoded data removed]",
      "text/plain": [
       "<Figure size 432x288 with 1 Axes>"
      ]
     },
     "metadata": {
      "needs_background": "light"
     },
     "output_type": "display_data"
    },
    {
     "data": {
      "image/png": "[encoded data removed]",
      "text/plain": [
       "<Figure size 432x288 with 1 Axes>"
      ]
     },
     "metadata": {
      "needs_background": "light"
     },
     "output_type": "display_data"
    },
    {
     "data": {
      "image/png": "[encoded data removed]",
      "text/plain": [
       "<Figure size 432x288 with 1 Axes>"
      ]
     },
     "metadata": {
      "needs_background": "light"
     },
     "output_type": "display_data"
    },
    {
     "data": {
      "image/png": "[encoded data removed]",
      "text/plain": [
       "<Figure size 432x288 with 1 Axes>"
      ]
     },
     "metadata": {
      "needs_background": "light"
     },
     "output_type": "display_data"
    },
    {
     "data": {
      "image/png": "[encoded data removed]",
      "text/plain": [
       "<Figure size 432x288 with 1 Axes>"
      ]
     },
     "metadata": {
      "needs_background": "light"
     },
     "output_type": "display_data"
    },
    {
     "data": {
      "image/png": "[encoded data removed]",
      "text/plain": [
       "<Figure size 432x288 with 1 Axes>"
      ]
     },
     "metadata": {
      "needs_background": "light"
     },
     "output_type": "display_data"
    },
    {
     "data": {
      "image/png": "[encoded data removed]",
      "text/plain": [
       "<Figure size 432x288 with 1 Axes>"
      ]
     },
     "metadata": {
      "needs_background": "light"
     },
     "output_type": "display_data"
    }
   ],
   "source": [
    "#plotting the data i am using box plot as it gives us additional information like percentile \n",
    "for feature_name in malware_data.drop(\"family\",axis=1).columns:\n",
    "    sb.boxplot(y=malware_data[feature_name])\n",
    "    plt.grid()\n",
    "    plt.title(\"BoxPlot of feature {}\".format(feature_name))\n",
    "    plt.show()\n"
   ]
  },
  {
   "cell_type": "markdown",
   "metadata": {},
   "source": [
    "<b>\n",
    "<ol>\n",
    "    <li>By looking at the box plot above i can say that S2 S3 S4 S7 have outlier but in order to confirm this</li>\n",
    "    <li>we can look into the percentile value of all the Feature than we have the clear understanding of what feature is having the outlier</li>\n",
    "    <li>percentile = (p/100)*n</li>\n",
    "</b>"
   ]
  },
  {
   "cell_type": "code",
   "execution_count": 14,
   "metadata": {},
   "outputs": [],
   "source": [
    "#processing of finding the percentile \n",
    "# i am applying the formula \n",
    "def find_percentile(feature,first):\n",
    "    \n",
    "    \n",
    "    if first==\"1\":\n",
    "        for i_ in range(0,100,10):\n",
    "            val = malware_data[feature]\n",
    "            val = np.sort(val,axis =None)\n",
    "            print(\"Percentile of {} is  {} \".format(i_,val[int(np.float(i_/100)*len(val))]))\n",
    "    elif first==\"2\":\n",
    "        for i_ in range(90,100):\n",
    "            val = malware_data[feature]\n",
    "            val = np.sort(val,axis =None)\n",
    "            print(\"Percentile of {} is  {} \".format(i_,val[int(np.float(i_/100)*len(val))]))\n",
    "    elif first == \"3\":\n",
    "        for i_ in np.arange(0,1.0,0.1):\n",
    "            val = malware_data[feature]\n",
    "            val = np.sort(val,axis =None)\n",
    "            print(\"Percentile of {} is  {} \".format(i_+99,val[int(np.float((i_+99)/100)*len(val))]))\n",
    "    \n",
    "    print(\"Percentile of 100 is {}\".format(val[-1]))\n",
    "    "
   ]
  },
  {
   "cell_type": "markdown",
   "metadata": {},
   "source": [
    "<h1> Explaination about percentile function ? </h1>\n",
    "<b>\n",
    "        <ol>\n",
    "            <li>we have our percentile function ready now we can use this function and find out the outlier</li>\n",
    "            <li>We have seen in above graph that the outlier are in S2 S3 S4 and S7 </li>\n",
    "             <li>lets see what is the furthest value in this which is making these feature as an outlier </li>\n",
    "            <li> what is 1 2 and 3 represent ?</li>\n",
    "                <ol>\n",
    "                <li>  basically 1 means i want percentile value between 0,90</li>\n",
    "                <li>   2 means i want percentile value between 90,100</li>\n",
    "                <li>   3 means i want percentile value between 99,100</li>\n"
   ]
  },
  {
   "cell_type": "code",
   "execution_count": 15,
   "metadata": {},
   "outputs": [
    {
     "name": "stdout",
     "output_type": "stream",
     "text": [
      "Percentile of 0 is  1.0 \n",
      "Percentile of 10 is  1.0 \n",
      "Percentile of 20 is  1.0 \n",
      "Percentile of 30 is  1.0 \n",
      "Percentile of 40 is  1.0 \n",
      "Percentile of 50 is  1.0 \n",
      "Percentile of 60 is  1.0 \n",
      "Percentile of 70 is  1.0 \n",
      "Percentile of 80 is  1.0 \n",
      "Percentile of 90 is  1.0 \n",
      "Percentile of 100 is 109.0\n",
      "-----------------\n",
      "Percentile of 90 is  1.0 \n",
      "Percentile of 91 is  1.0 \n",
      "Percentile of 92 is  1.0 \n",
      "Percentile of 93 is  1.0 \n",
      "Percentile of 94 is  1.0 \n",
      "Percentile of 95 is  1.0 \n",
      "Percentile of 96 is  1.0 \n",
      "Percentile of 97 is  1.0 \n",
      "Percentile of 98 is  1.0 \n",
      "Percentile of 99 is  1.0 \n",
      "Percentile of 100 is 109.0\n",
      "-----------------\n",
      "Percentile of 99.0 is  31.0 \n",
      "Percentile of 99.1 is  31.0 \n",
      "Percentile of 99.2 is  31.0 \n",
      "Percentile of 99.3 is  32.0 \n",
      "Percentile of 99.4 is  32.0 \n",
      "Percentile of 99.5 is  32.0 \n",
      "Percentile of 99.6 is  33.0 \n",
      "Percentile of 99.7 is  34.0 \n",
      "Percentile of 99.8 is  34.0 \n",
      "Percentile of 99.9 is  36.0 \n",
      "Percentile of 100 is 109.0\n"
     ]
    }
   ],
   "source": [
    "\n",
    "find_percentile(\"S2\",\"1\")\n",
    "print(\"-----------------\")\n",
    "find_percentile(\"S2\",\"2\")\n",
    "print(\"-----------------\")\n",
    "find_percentile(\"S2\",\"3\")"
   ]
  },
  {
   "cell_type": "code",
   "execution_count": 16,
   "metadata": {},
   "outputs": [],
   "source": [
    "# As we can  see in this after 99.9 the value jump too high now what i can do is remove the data which is \n",
    "# above 36.0 and keep rest \n",
    "#lets do it \n",
    "malware_data = malware_data[malware_data[\"S2\"]<=36.0]"
   ]
  },
  {
   "cell_type": "code",
   "execution_count": 17,
   "metadata": {},
   "outputs": [
    {
     "name": "stdout",
     "output_type": "stream",
     "text": [
      "Percentile of 0 is  1.0 \n",
      "Percentile of 10 is  1.0 \n",
      "Percentile of 20 is  1.0 \n",
      "Percentile of 30 is  1.0 \n",
      "Percentile of 40 is  1.0 \n",
      "Percentile of 50 is  1.0 \n",
      "Percentile of 60 is  1.0 \n",
      "Percentile of 70 is  1.0 \n",
      "Percentile of 80 is  1.0 \n",
      "Percentile of 90 is  1.0 \n",
      "Percentile of 100 is 56.0\n",
      "-----------------\n",
      "Percentile of 90 is  1.0 \n",
      "Percentile of 91 is  1.0 \n",
      "Percentile of 92 is  1.0 \n",
      "Percentile of 93 is  1.0 \n",
      "Percentile of 94 is  1.0 \n",
      "Percentile of 95 is  1.0 \n",
      "Percentile of 96 is  1.0 \n",
      "Percentile of 97 is  1.0 \n",
      "Percentile of 98 is  1.0 \n",
      "Percentile of 99 is  1.0 \n",
      "Percentile of 100 is 56.0\n",
      "-----------------\n",
      "Percentile of 99.0 is  25.0 \n",
      "Percentile of 99.1 is  25.0 \n",
      "Percentile of 99.2 is  30.0 \n",
      "Percentile of 99.3 is  31.0 \n",
      "Percentile of 99.4 is  31.0 \n",
      "Percentile of 99.5 is  32.0 \n",
      "Percentile of 99.6 is  33.0 \n",
      "Percentile of 99.7 is  36.0 \n",
      "Percentile of 99.8 is  37.0 \n",
      "Percentile of 99.9 is  42.0 \n",
      "Percentile of 100 is 56.0\n"
     ]
    }
   ],
   "source": [
    "#lets see rest of the feature \n",
    "\n",
    "\n",
    "find_percentile(\"S3\",\"1\")\n",
    "print(\"-----------------\")\n",
    "find_percentile(\"S3\",\"2\")\n",
    "print(\"-----------------\")\n",
    "find_percentile(\"S3\",\"3\")"
   ]
  },
  {
   "cell_type": "code",
   "execution_count": 18,
   "metadata": {},
   "outputs": [
    {
     "name": "stdout",
     "output_type": "stream",
     "text": [
      "Percentile of 0 is  1.0 \n",
      "Percentile of 10 is  1.0 \n",
      "Percentile of 20 is  1.0 \n",
      "Percentile of 30 is  1.0 \n",
      "Percentile of 40 is  1.0 \n",
      "Percentile of 50 is  1.0 \n",
      "Percentile of 60 is  1.0 \n",
      "Percentile of 70 is  1.0 \n",
      "Percentile of 80 is  1.0 \n",
      "Percentile of 90 is  1.0 \n",
      "Percentile of 100 is 48.0\n",
      "-----------------\n",
      "Percentile of 90 is  1.0 \n",
      "Percentile of 91 is  1.0 \n",
      "Percentile of 92 is  1.0 \n",
      "Percentile of 93 is  1.0 \n",
      "Percentile of 94 is  1.0 \n",
      "Percentile of 95 is  1.0 \n",
      "Percentile of 96 is  1.0 \n",
      "Percentile of 97 is  1.0 \n",
      "Percentile of 98 is  1.0 \n",
      "Percentile of 99 is  1.0 \n",
      "Percentile of 100 is 48.0\n",
      "-----------------\n",
      "Percentile of 99.0 is  11.0 \n",
      "Percentile of 99.1 is  11.0 \n",
      "Percentile of 99.2 is  11.0 \n",
      "Percentile of 99.3 is  12.0 \n",
      "Percentile of 99.4 is  13.0 \n",
      "Percentile of 99.5 is  13.0 \n",
      "Percentile of 99.6 is  13.0 \n",
      "Percentile of 99.7 is  16.0 \n",
      "Percentile of 99.8 is  20.0 \n",
      "Percentile of 99.9 is  22.0 \n",
      "Percentile of 100 is 48.0\n"
     ]
    }
   ],
   "source": [
    "# feature S3 seems to be good i think  we can keep all the values of S3 \n",
    "# beacause at 99.9 their is not a high jump of value \n",
    "\n",
    "#lets see rest of the feature \n",
    "\n",
    "\n",
    "find_percentile(\"S4\",\"1\")\n",
    "print(\"-----------------\")\n",
    "find_percentile(\"S4\",\"2\")\n",
    "print(\"-----------------\")\n",
    "find_percentile(\"S4\",\"3\")"
   ]
  },
  {
   "cell_type": "code",
   "execution_count": 19,
   "metadata": {},
   "outputs": [],
   "source": [
    "#this feature has a outlier because the value at 99.9 is 22.0 which changes to 48.0\n",
    "# which is the high change of the value \n",
    "malware_data = malware_data[malware_data[\"S4\"] <=22.0]"
   ]
  },
  {
   "cell_type": "code",
   "execution_count": 20,
   "metadata": {},
   "outputs": [
    {
     "name": "stdout",
     "output_type": "stream",
     "text": [
      "Percentile of 0 is  1.0 \n",
      "Percentile of 10 is  1.0 \n",
      "Percentile of 20 is  1.0 \n",
      "Percentile of 30 is  1.0 \n",
      "Percentile of 40 is  1.0 \n",
      "Percentile of 50 is  1.0 \n",
      "Percentile of 60 is  1.0 \n",
      "Percentile of 70 is  1.0 \n",
      "Percentile of 80 is  1.0 \n",
      "Percentile of 90 is  1.0 \n",
      "Percentile of 100 is 20.0\n",
      "-----------------\n",
      "Percentile of 90 is  1.0 \n",
      "Percentile of 91 is  1.0 \n",
      "Percentile of 92 is  1.0 \n",
      "Percentile of 93 is  1.0 \n",
      "Percentile of 94 is  1.0 \n",
      "Percentile of 95 is  1.0 \n",
      "Percentile of 96 is  1.0 \n",
      "Percentile of 97 is  1.0 \n",
      "Percentile of 98 is  1.0 \n",
      "Percentile of 99 is  1.0 \n",
      "Percentile of 100 is 20.0\n",
      "-----------------\n",
      "Percentile of 99.0 is  15.0 \n",
      "Percentile of 99.1 is  15.0 \n",
      "Percentile of 99.2 is  15.0 \n",
      "Percentile of 99.3 is  15.0 \n",
      "Percentile of 99.4 is  15.0 \n",
      "Percentile of 99.5 is  15.0 \n",
      "Percentile of 99.6 is  16.0 \n",
      "Percentile of 99.7 is  16.0 \n",
      "Percentile of 99.8 is  17.0 \n",
      "Percentile of 99.9 is  17.0 \n",
      "Percentile of 100 is 20.0\n"
     ]
    }
   ],
   "source": [
    "#lets see the last feature\n",
    "\n",
    "\n",
    "find_percentile(\"S7\",\"1\")\n",
    "print(\"-----------------\")\n",
    "find_percentile(\"S7\",\"2\")\n",
    "print(\"-----------------\")\n",
    "find_percentile(\"S7\",\"3\")"
   ]
  },
  {
   "cell_type": "code",
   "execution_count": 21,
   "metadata": {},
   "outputs": [
    {
     "data": {
      "text/html": [
       "<div>\n",
       "<style scoped>\n",
       "    .dataframe tbody tr th:only-of-type {\n",
       "        vertical-align: middle;\n",
       "    }\n",
       "\n",
       "    .dataframe tbody tr th {\n",
       "        vertical-align: top;\n",
       "    }\n",
       "\n",
       "    .dataframe thead th {\n",
       "        text-align: right;\n",
       "    }\n",
       "</style>\n",
       "<table border=\"1\" class=\"dataframe\">\n",
       "  <thead>\n",
       "    <tr style=\"text-align: right;\">\n",
       "      <th></th>\n",
       "      <th>S1</th>\n",
       "      <th>S2</th>\n",
       "      <th>S3</th>\n",
       "      <th>S4</th>\n",
       "      <th>S5</th>\n",
       "      <th>S6</th>\n",
       "      <th>S7</th>\n",
       "    </tr>\n",
       "  </thead>\n",
       "  <tbody>\n",
       "    <tr>\n",
       "      <th>count</th>\n",
       "      <td>5553.000000</td>\n",
       "      <td>5553.000000</td>\n",
       "      <td>5553.000000</td>\n",
       "      <td>5553.000000</td>\n",
       "      <td>5553.000000</td>\n",
       "      <td>5553.000000</td>\n",
       "      <td>5553.000000</td>\n",
       "    </tr>\n",
       "    <tr>\n",
       "      <th>mean</th>\n",
       "      <td>3.722672</td>\n",
       "      <td>11.827301</td>\n",
       "      <td>3.662345</td>\n",
       "      <td>4.408068</td>\n",
       "      <td>7.027733</td>\n",
       "      <td>6.203314</td>\n",
       "      <td>6.501891</td>\n",
       "    </tr>\n",
       "    <tr>\n",
       "      <th>std</th>\n",
       "      <td>1.912293</td>\n",
       "      <td>7.179504</td>\n",
       "      <td>4.399819</td>\n",
       "      <td>2.407486</td>\n",
       "      <td>3.707072</td>\n",
       "      <td>3.498648</td>\n",
       "      <td>3.421891</td>\n",
       "    </tr>\n",
       "    <tr>\n",
       "      <th>min</th>\n",
       "      <td>1.000000</td>\n",
       "      <td>1.000000</td>\n",
       "      <td>1.000000</td>\n",
       "      <td>1.000000</td>\n",
       "      <td>1.000000</td>\n",
       "      <td>1.000000</td>\n",
       "      <td>1.000000</td>\n",
       "    </tr>\n",
       "    <tr>\n",
       "      <th>25%</th>\n",
       "      <td>2.000000</td>\n",
       "      <td>6.000000</td>\n",
       "      <td>1.000000</td>\n",
       "      <td>2.000000</td>\n",
       "      <td>4.000000</td>\n",
       "      <td>3.000000</td>\n",
       "      <td>4.000000</td>\n",
       "    </tr>\n",
       "    <tr>\n",
       "      <th>50%</th>\n",
       "      <td>3.000000</td>\n",
       "      <td>10.000000</td>\n",
       "      <td>2.000000</td>\n",
       "      <td>4.000000</td>\n",
       "      <td>7.000000</td>\n",
       "      <td>6.000000</td>\n",
       "      <td>6.000000</td>\n",
       "    </tr>\n",
       "    <tr>\n",
       "      <th>75%</th>\n",
       "      <td>5.000000</td>\n",
       "      <td>17.000000</td>\n",
       "      <td>4.000000</td>\n",
       "      <td>5.000000</td>\n",
       "      <td>10.000000</td>\n",
       "      <td>9.000000</td>\n",
       "      <td>9.000000</td>\n",
       "    </tr>\n",
       "    <tr>\n",
       "      <th>max</th>\n",
       "      <td>11.000000</td>\n",
       "      <td>36.000000</td>\n",
       "      <td>56.000000</td>\n",
       "      <td>22.000000</td>\n",
       "      <td>20.000000</td>\n",
       "      <td>19.000000</td>\n",
       "      <td>20.000000</td>\n",
       "    </tr>\n",
       "  </tbody>\n",
       "</table>\n",
       "</div>"
      ],
      "text/plain": [
       "                S1           S2           S3           S4           S5  \\\n",
       "count  5553.000000  5553.000000  5553.000000  5553.000000  5553.000000   \n",
       "mean      3.722672    11.827301     3.662345     4.408068     7.027733   \n",
       "std       1.912293     7.179504     4.399819     2.407486     3.707072   \n",
       "min       1.000000     1.000000     1.000000     1.000000     1.000000   \n",
       "25%       2.000000     6.000000     1.000000     2.000000     4.000000   \n",
       "50%       3.000000    10.000000     2.000000     4.000000     7.000000   \n",
       "75%       5.000000    17.000000     4.000000     5.000000    10.000000   \n",
       "max      11.000000    36.000000    56.000000    22.000000    20.000000   \n",
       "\n",
       "                S6           S7  \n",
       "count  5553.000000  5553.000000  \n",
       "mean      6.203314     6.501891  \n",
       "std       3.498648     3.421891  \n",
       "min       1.000000     1.000000  \n",
       "25%       3.000000     4.000000  \n",
       "50%       6.000000     6.000000  \n",
       "75%       9.000000     9.000000  \n",
       "max      19.000000    20.000000  "
      ]
     },
     "execution_count": 21,
     "metadata": {},
     "output_type": "execute_result"
    }
   ],
   "source": [
    "#this feature is good \n",
    "malware_data.describe()"
   ]
  },
  {
   "cell_type": "markdown",
   "metadata": {},
   "source": [
    "<h1>Conclusion after applying the percentile function and after removing the outlier </h1>\n",
    "    <p>\n",
    "        Now if we see this we can say we have no outlier to best of our knowledge. <br>\n",
    "        Now the data we have is not normalize it is always a good idea to normalize the data <Br>\n",
    "        because than we have a range of value which is between 0 and 1 \n",
    "        how we can do it : we can use sklearn library or do it by ourself \n",
    "    </p>"
   ]
  },
  {
   "cell_type": "code",
   "execution_count": 22,
   "metadata": {},
   "outputs": [],
   "source": [
    "#this is the function that help me to normalize the data the values is between 0 and 1 after normalization\n",
    "def normalize(data):\n",
    "    for i in data.drop(\"family\",axis=1).columns:\n",
    "        min_val = data[i].min()\n",
    "        max_val = data[i].max()\n",
    "        data[i] = (data[i] - min_val)/(max_val-min_val)\n",
    "    \n",
    "    return data\n",
    "malware_data = normalize(malware_data)"
   ]
  },
  {
   "cell_type": "code",
   "execution_count": 23,
   "metadata": {},
   "outputs": [],
   "source": [
    "# Now once we have the normalized data we can look into  analysis of the \n",
    "# Each feature and try to analyse if this feature us important or not \n",
    "\n",
    "#lets find the correlation matrix of the feature\n",
    "correlation_matrix  = malware_data.corr()"
   ]
  },
  {
   "cell_type": "markdown",
   "metadata": {},
   "source": [
    "<h1>Heat Map ||</h1>"
   ]
  },
  {
   "cell_type": "code",
   "execution_count": 24,
   "metadata": {},
   "outputs": [
    {
     "data": {
      "image/png": "[encoded data removed]",
      "text/plain": [
       "<Figure size 432x288 with 2 Axes>"
      ]
     },
     "metadata": {
      "needs_background": "light"
     },
     "output_type": "display_data"
    }
   ],
   "source": [
    "#as we can see that this matrix is correlation matrix to make it more readable \n",
    "# lets draw the heat map of the correlation matrix and look into the feature \n",
    "sb.heatmap(correlation_matrix,annot=True)\n",
    "plt.show()"
   ]
  },
  {
   "cell_type": "markdown",
   "metadata": {},
   "source": [
    "<b>\n",
    "<ol>\n",
    "    <li>As we can see that S5 and S6 are highly correlated and since these two feature is pretty similar </li>\n",
    "    <li>We can remove one  of the feature and use only one because it dont make sense to keep both the feature</li> \n",
    "</b>"
   ]
  },
  {
   "cell_type": "code",
   "execution_count": 25,
   "metadata": {},
   "outputs": [],
   "source": [
    "malware_data.drop(\"S6\",axis=1,inplace=True)\n",
    "#Thou we can see more feature in this which is correlated with S5 but we will remove only those which is more correlated"
   ]
  },
  {
   "cell_type": "markdown",
   "metadata": {},
   "source": [
    "<h1> Univariant Analysis</h1>"
   ]
  },
  {
   "cell_type": "code",
   "execution_count": 26,
   "metadata": {},
   "outputs": [
    {
     "data": {
      "image/png": "[encoded data removed]",
      "text/plain": [
       "<Figure size 432x288 with 1 Axes>"
      ]
     },
     "metadata": {
      "needs_background": "light"
     },
     "output_type": "display_data"
    },
    {
     "data": {
      "image/png": "[encoded data removed]",
      "text/plain": [
       "<Figure size 432x288 with 1 Axes>"
      ]
     },
     "metadata": {
      "needs_background": "light"
     },
     "output_type": "display_data"
    },
    {
     "data": {
      "image/png": "[encoded data removed]",
      "text/plain": [
       "<Figure size 432x288 with 1 Axes>"
      ]
     },
     "metadata": {
      "needs_background": "light"
     },
     "output_type": "display_data"
    },
    {
     "data": {
      "image/png": "[encoded data removed]",
      "text/plain": [
       "<Figure size 432x288 with 1 Axes>"
      ]
     },
     "metadata": {
      "needs_background": "light"
     },
     "output_type": "display_data"
    },
    {
     "data": {
      "image/png": "[encoded data removed]",
      "text/plain": [
       "<Figure size 432x288 with 1 Axes>"
      ]
     },
     "metadata": {
      "needs_background": "light"
     },
     "output_type": "display_data"
    },
    {
     "data": {
      "image/png": "[encoded data removed]",
      "text/plain": [
       "<Figure size 432x288 with 1 Axes>"
      ]
     },
     "metadata": {
      "needs_background": "light"
     },
     "output_type": "display_data"
    }
   ],
   "source": [
    "#lets see the univariant analysis of the all the feature \n",
    "for name in malware_data.drop(\"family\",axis=1).columns:\n",
    "    sb.distplot(malware_data[name])\n",
    "    plt.show()"
   ]
  },
  {
   "cell_type": "markdown",
   "metadata": {},
   "source": [
    "<b> Plots are not normally distributed\n",
    "</b>"
   ]
  },
  {
   "cell_type": "markdown",
   "metadata": {},
   "source": [
    "<h3>What we have to do ? </h3>\n",
    "<b>\n",
    "<ol>\n",
    "<li>classify the family of the virus</li> \n",
    "<li>Find the accuracy</li>\n",
    "<li>precision </li>\n",
    "<li>recall</li> \n",
    "<li>f1 Score \n",
    "</l1>\n",
    "</b>"
   ]
  },
  {
   "cell_type": "code",
   "execution_count": 27,
   "metadata": {},
   "outputs": [
    {
     "data": {
      "text/plain": [
       "malware       2918\n",
       "nonmalware    2635\n",
       "Name: family, dtype: int64"
      ]
     },
     "execution_count": 27,
     "metadata": {},
     "output_type": "execute_result"
    }
   ],
   "source": [
    "#lets differentiate the malware and non malware data point so that we find it easy to differentiate among them\n",
    "malware =  [\"Plankton\",\"Geinimi\",\"DroidKungFu\",\"Opfake\",\"FakeInstaller\"]\n",
    "malware_data[\"family\"] = [\"malware\" if name in malware else \"nonmalware\" for name in malware_data[\"family\"]]\n",
    "malware_data.family.value_counts()"
   ]
  },
  {
   "cell_type": "code",
   "execution_count": 28,
   "metadata": {},
   "outputs": [
    {
     "data": {
      "text/html": [
       "<div>\n",
       "<style scoped>\n",
       "    .dataframe tbody tr th:only-of-type {\n",
       "        vertical-align: middle;\n",
       "    }\n",
       "\n",
       "    .dataframe tbody tr th {\n",
       "        vertical-align: top;\n",
       "    }\n",
       "\n",
       "    .dataframe thead th {\n",
       "        text-align: right;\n",
       "    }\n",
       "</style>\n",
       "<table border=\"1\" class=\"dataframe\">\n",
       "  <thead>\n",
       "    <tr style=\"text-align: right;\">\n",
       "      <th></th>\n",
       "      <th>S1</th>\n",
       "      <th>S2</th>\n",
       "      <th>S3</th>\n",
       "      <th>S4</th>\n",
       "      <th>S5</th>\n",
       "      <th>S7</th>\n",
       "      <th>family</th>\n",
       "    </tr>\n",
       "  </thead>\n",
       "  <tbody>\n",
       "    <tr>\n",
       "      <th>0</th>\n",
       "      <td>0.5</td>\n",
       "      <td>0.657143</td>\n",
       "      <td>0.000000</td>\n",
       "      <td>0.142857</td>\n",
       "      <td>0.473684</td>\n",
       "      <td>0.210526</td>\n",
       "      <td>1</td>\n",
       "    </tr>\n",
       "    <tr>\n",
       "      <th>1</th>\n",
       "      <td>0.1</td>\n",
       "      <td>0.171429</td>\n",
       "      <td>0.090909</td>\n",
       "      <td>0.190476</td>\n",
       "      <td>0.473684</td>\n",
       "      <td>0.473684</td>\n",
       "      <td>1</td>\n",
       "    </tr>\n",
       "    <tr>\n",
       "      <th>2</th>\n",
       "      <td>0.2</td>\n",
       "      <td>0.600000</td>\n",
       "      <td>0.000000</td>\n",
       "      <td>0.142857</td>\n",
       "      <td>0.421053</td>\n",
       "      <td>0.210526</td>\n",
       "      <td>1</td>\n",
       "    </tr>\n",
       "    <tr>\n",
       "      <th>3</th>\n",
       "      <td>0.6</td>\n",
       "      <td>0.314286</td>\n",
       "      <td>0.181818</td>\n",
       "      <td>0.142857</td>\n",
       "      <td>0.473684</td>\n",
       "      <td>0.421053</td>\n",
       "      <td>0</td>\n",
       "    </tr>\n",
       "    <tr>\n",
       "      <th>4</th>\n",
       "      <td>0.3</td>\n",
       "      <td>0.628571</td>\n",
       "      <td>0.054545</td>\n",
       "      <td>0.285714</td>\n",
       "      <td>0.842105</td>\n",
       "      <td>0.473684</td>\n",
       "      <td>0</td>\n",
       "    </tr>\n",
       "  </tbody>\n",
       "</table>\n",
       "</div>"
      ],
      "text/plain": [
       "    S1        S2        S3        S4        S5        S7  family\n",
       "0  0.5  0.657143  0.000000  0.142857  0.473684  0.210526       1\n",
       "1  0.1  0.171429  0.090909  0.190476  0.473684  0.473684       1\n",
       "2  0.2  0.600000  0.000000  0.142857  0.421053  0.210526       1\n",
       "3  0.6  0.314286  0.181818  0.142857  0.473684  0.421053       0\n",
       "4  0.3  0.628571  0.054545  0.285714  0.842105  0.473684       0"
      ]
     },
     "execution_count": 28,
     "metadata": {},
     "output_type": "execute_result"
    }
   ],
   "source": [
    "#lets convert the family into binary variable which is 1 or 0\n",
    "malware_data[\"family\"] = [1 if name ==\"malware\" else 0 for name in malware_data[\"family\"]]\n",
    "malware_data.head()\n",
    "#data is ready to splitted into train test and cross validation "
   ]
  },
  {
   "cell_type": "code",
   "execution_count": 29,
   "metadata": {},
   "outputs": [],
   "source": [
    "from sklearn.model_selection import train_test_split\n",
    "x_train,x_test,y_train,y_test = train_test_split(malware_data.drop(\"family\",axis=1),malware_data[\"family\"],stratify=malware_data[\"family\"],test_size=0.3)\n",
    "x_train,x_cv,y_train,y_cv     = train_test_split(x_train,y_train,stratify=y_train,test_size=0.2)"
   ]
  },
  {
   "cell_type": "code",
   "execution_count": 30,
   "metadata": {},
   "outputs": [
    {
     "name": "stdout",
     "output_type": "stream",
     "text": [
      "('Train data have ', (3109, 6))\n",
      "('Test data have ', (1666, 6))\n",
      "('Cross validation ', (778, 6))\n"
     ]
    }
   ],
   "source": [
    "print(\"Train data have \",x_train.shape)\n",
    "print(\"Test data have \",x_test.shape)\n",
    "print(\"Cross validation \",x_cv.shape)"
   ]
  },
  {
   "cell_type": "markdown",
   "metadata": {},
   "source": [
    "<h1> Below is Metric Evaluation Function where we are finding \n",
    "    Accuracy Score , F1 Score, Recall Score , Precision Score\n",
    "</h1>"
   ]
  },
  {
   "cell_type": "code",
   "execution_count": 31,
   "metadata": {},
   "outputs": [],
   "source": [
    "def metrics_evaluation(y_predict_train,y_predict_test,y_predict_cv):\n",
    "    # By looking at the train test and cross validation i can say that is not overfitting \n",
    "    # lets find the more metrics which is precision recall and f1 score\n",
    "    #lets see the accuracy for train,test and cross validation\n",
    "    \n",
    "    \n",
    "    \n",
    "    print(\"--------------------Accuracy Score -------------------------------\")\n",
    "    print(\"The accuracy for Train is \",accuracy_score(y_train,y_predict_train))\n",
    "    print(\"The accuracy for Test is \",accuracy_score(y_test,y_predict_test))\n",
    "    print(\"The accuracy for Cross validation is \",accuracy_score(y_cv,y_predict_cv))\n",
    "\n",
    "    print(\"\\n\")\n",
    "    print(\"----------------------F1 Score Result----------------------------------\")\n",
    "\n",
    "    print(\"The F1.Score for Train is \",f1_score(y_train,y_predict_train))\n",
    "    print(\"The F1.Score for Test is \",f1_score(y_test,y_predict_test))\n",
    "    print(\"The F1.Score for Cross validation is \",f1_score(y_cv,y_predict_cv))\n",
    "\n",
    "    print(\"\\n\")\n",
    "    print(\"---------------------Precision Score-----------------------------------\")\n",
    "\n",
    "    print(\"The Precision Score for Train is \",precision_score(y_train,y_predict_train))\n",
    "    print(\"The Precision Score for Test is \",precision_score(y_test,y_predict_test))\n",
    "    print(\"The Precision Score for Cross validation is \",precision_score(y_cv,y_predict_cv))\n",
    "\n",
    "    print(\"\\n\")\n",
    "    print(\"---------------------Recall Score --------------------------------------\")\n",
    "\n",
    "    print(\"The Recall Score for Train is \",recall_score(y_train,y_predict_train))\n",
    "    print(\"The Recall Score for Test is \",recall_score(y_test,y_predict_test))\n",
    "    print(\"The Recall Score for Cross validation is \",recall_score(y_cv,y_predict_cv))"
   ]
  },
  {
   "cell_type": "markdown",
   "metadata": {},
   "source": [
    "<h1> First Model Support Vector Machine Classifier </h1>\n",
    "    <b> What I am Doing in it?   </b>\n",
    "        <ol> \n",
    "            <li> Hyperparameter Tuning using the cross validation data </li>\n",
    "            <li> Finding Train,test,Cross validation Accuracy </li>\n",
    "            <li> Finding Train,test,Cross Percision Score </li>\n",
    "            <li> Finding Train,test,Cross Recall Score </li>\n",
    "            <li> Finding Train,test,Cross F1 Score </li>\n",
    "          \n",
    " \n",
    "            \n",
    "            \n",
    "   "
   ]
  },
  {
   "cell_type": "code",
   "execution_count": 32,
   "metadata": {},
   "outputs": [
    {
     "name": "stdout",
     "output_type": "stream",
     "text": [
      "('Accuracy Score', 0.5205655526992288)\n",
      "('Accuracy Score', 0.583547557840617)\n",
      "('Accuracy Score', 0.7532133676092545)\n",
      "('Accuracy Score', 0.7622107969151671)\n",
      "('Accuracy Score', 0.7930591259640103)\n",
      "--------------------------------\n",
      "('Accuracy Score', 0.6118251928020566)\n",
      "('Accuracy Score', 0.7930591259640103)\n",
      "('Accuracy Score', 0.6593830334190232)\n",
      "\n",
      "\n",
      "--------------------Metrics F1 Score,Accuracy,Precission and Recall-------------------------------\n",
      "\n",
      "\n",
      "--------------------Accuracy Score -------------------------------\n",
      "('The accuracy for Train is ', 0.7963975554840785)\n",
      "('The accuracy for Test is ', 0.7719087635054022)\n",
      "('The accuracy for Cross validation is ', 0.7930591259640103)\n",
      "\n",
      "\n",
      "----------------------F1 Score Result----------------------------------\n",
      "('The F1.Score for Train is ', 0.8101949025487257)\n",
      "('The F1.Score for Test is ', 0.7835990888382688)\n",
      "('The F1.Score for Cross validation is ', 0.8076463560334529)\n",
      "\n",
      "\n",
      "---------------------Precision Score-----------------------------------\n",
      "('The Precision Score for Train is ', 0.7942386831275721)\n",
      "('The Precision Score for Test is ', 0.7809307604994324)\n",
      "('The Precision Score for Cross validation is ', 0.7897196261682243)\n",
      "\n",
      "\n",
      "---------------------Recall Score --------------------------------------\n",
      "('The Recall Score for Train is ', 0.8268053855569155)\n",
      "('The Recall Score for Test is ', 0.7862857142857143)\n",
      "('The Recall Score for Cross validation is ', 0.8264058679706602)\n"
     ]
    }
   ],
   "source": [
    "#lets use Model SVC which is known as Support vector classifier of SVM\n",
    "# which is basically used for classification problem\n",
    "cs = [0.1, 1, 10, 100, 1000]\n",
    "accuracy_score_ = []\n",
    "for c in cs:\n",
    "    svc = SVC(C =c)\n",
    "    svc.fit(x_train,y_train)\n",
    "    y_predict  = svc.predict(x_cv)\n",
    "    score = accuracy_score(y_cv,y_predict)\n",
    "    accuracy_score_.append(score)\n",
    "    print(\"Accuracy Score\",score)\n",
    "    \n",
    "\n",
    "C = cs[accuracy_score_.index(max(accuracy_score_))]\n",
    "# here we use grid  search technique to find the best value of C \n",
    "# which is also call the penalty parameter\n",
    "print(\"--------------------------------\")\n",
    "\n",
    "accuracy_score__ = []\n",
    "kernels = [\"linear\",\"rbf\", \"poly\"]\n",
    "for gm in kernels:\n",
    "    svc =SVC(C = C, kernel=gm)\n",
    "    svc.fit(x_train,y_train)\n",
    "    y_predict  = svc.predict(x_cv)\n",
    "    score = accuracy_score(y_cv,y_predict)\n",
    "    accuracy_score__.append(score)\n",
    "    print(\"Accuracy Score\",score)\n",
    "\n",
    "\n",
    "kernel  = kernels[accuracy_score__.index(max(accuracy_score__))]\n",
    "\n",
    "\n",
    "#now we have set what parameter to choose still we can use more hyperparameter to tune\n",
    "# I took the help of https://medium.com/all-things-ai/in-depth-parameter-tuning-for-svc-758215394769\n",
    "# In order to tune the paramter \n",
    "\n",
    "#lets apply all together and see of this bring some change to our model\n",
    "\n",
    "\n",
    "svc  = SVC(C =c,kernel=kernel)\n",
    "svc.fit(x_train,y_train)\n",
    "\n",
    "y_predict_train =  svc.predict(x_train)\n",
    "y_predict_test =  svc.predict(x_test)\n",
    "y_predict_cv =  svc.predict(x_cv)\n",
    "\n",
    "print(\"\\n\")\n",
    "print(\"--------------------Metrics F1 Score,Accuracy,Precission and Recall-------------------------------\")\n",
    "print(\"\\n\")\n",
    "\n",
    "metrics_evaluation(y_predict_train,y_predict_test,y_predict_cv)\n"
   ]
  },
  {
   "cell_type": "markdown",
   "metadata": {},
   "source": [
    "<h1> Random Forest Classifier Ensemble Method</h1>\n",
    "    <p>\n",
    "    <ol>\n",
    "          <li>  lets use another model Random Forest classifier basically it is an ensembles model </li>\n",
    "            <li>the concept is very simple we take Decision tree and use different data to predict the outcome \n",
    "            <li>than use aggregation to find the final result </li>\n",
    "            <li>the problem with decision tree is it can easily overfit so in Random Forest this problem is not their</li>\n",
    "            <li>lets see how we do it in random Forest </li>\n",
    "            <li>we will use sklearn to do it </li>\n",
    "            <li>parameter of random Forest that we can tune which is also call as Hyper parameter </li>\n",
    "                <ul>\n",
    "                <li>n_estimator -> number of trees in the forest </li>\n",
    "                <li>max_depth  -> what is the depth of the tree </li>\n",
    "            <li>these are the only paramter we will tune thou we can tune more of these parameter in order to make this tree efficient </li>\n"
   ]
  },
  {
   "cell_type": "code",
   "execution_count": 33,
   "metadata": {},
   "outputs": [
    {
     "name": "stdout",
     "output_type": "stream",
     "text": [
      "\n",
      "\n",
      "--------------------Metrics F1 Score,Accuracy,Precission and Recall-------------------------------\n",
      "\n",
      "\n",
      "--------------------Accuracy Score -------------------------------\n",
      "('The accuracy for Train is ', 0.9948536506915406)\n",
      "('The accuracy for Test is ', 0.9621848739495799)\n",
      "('The accuracy for Cross validation is ', 0.9511568123393316)\n",
      "\n",
      "\n",
      "----------------------F1 Score Result----------------------------------\n",
      "('The F1.Score for Train is ', 0.9951219512195122)\n",
      "('The F1.Score for Test is ', 0.9636468551644547)\n",
      "('The F1.Score for Cross validation is ', 0.9533169533169534)\n",
      "\n",
      "\n",
      "---------------------Precision Score-----------------------------------\n",
      "('The Precision Score for Train is ', 0.991494532199271)\n",
      "('The Precision Score for Test is ', 0.9731934731934732)\n",
      "('The Precision Score for Cross validation is ', 0.9580246913580247)\n",
      "\n",
      "\n",
      "---------------------Recall Score --------------------------------------\n",
      "('The Recall Score for Train is ', 0.9987760097919217)\n",
      "('The Recall Score for Test is ', 0.9542857142857143)\n",
      "('The Recall Score for Cross validation is ', 0.9486552567237164)\n"
     ]
    }
   ],
   "source": [
    "\n",
    "max_depth  = [80, 90, 100, 110] # this value can be anything this is just the depth\n",
    "n_estimator = [100, 200, 300, 1000]#this value decide the number of tree \n",
    "\n",
    "parameter = {'n_estimators':n_estimator,'max_depth':max_depth}\n",
    "rf  = RandomForestClassifier() # so use all the processor \n",
    "\n",
    "grid_search = GridSearchCV(rf, param_grid = parameter,n_jobs=-1,cv=5)\n",
    "grid_search.fit(x_train,y_train)\n",
    "\n",
    "max_depth = grid_search.best_params_.get('max_depth')\n",
    "estimator  = grid_search.best_params_.get('n_estimators')\n",
    "\n",
    "\n",
    "#lets apply all together and see of this bring some change to our model\n",
    "\n",
    "\n",
    "rf  = RandomForestClassifier(n_estimators=estimator,max_depth=max_depth,n_jobs=-1)\n",
    "rf.fit(x_train,y_train)\n",
    "\n",
    "y_predict_train =  rf.predict(x_train)\n",
    "y_predict_test =  rf.predict(x_test)\n",
    "y_predict_cv =  rf.predict(x_cv)\n",
    "\n",
    "print(\"\\n\")\n",
    "print(\"--------------------Metrics F1 Score,Accuracy,Precission and Recall-------------------------------\")\n",
    "print(\"\\n\")\n",
    "\n",
    "metrics_evaluation(y_predict_train,y_predict_test,y_predict_cv)\n"
   ]
  },
  {
   "cell_type": "markdown",
   "metadata": {},
   "source": [
    "<h1> Conclusion </h1>\n",
    "    <b>1 I have used two model one is SVM which is support vector machine and another one is Random Forest Classifier</b><br/>\n",
    "    <br/>\n",
    "    <b>2 Basically these two model is present in the sklearn library but in order to use it efficiently i tunned the hyperparameter either we can use the already define function in sklearn like grid search or randomized search or we can write our own in first model i write my own tunned script in case of SVM where as in RandomForestClassifier i use pre define function in sklearn</b><br/>\n",
    "    <br/>\n",
    "    <b>3 Its always a good idea to tunned the hyperparameter because it help the model to work well in the data </b><br/>\n",
    "    <br/>\n",
    "    <b>4 As we can see in my case the Train , Test and CV data are not varying that much so i can say that my model is not overfit  </b>"
   ]
  }
 ],
 "metadata": {
  "kernelspec": {
   "display_name": "Python 2",
   "language": "python",
   "name": "python2"
  },
  "language_info": {
   "codemirror_mode": {
    "name": "ipython",
    "version": 2
   },
   "file_extension": ".py",
   "mimetype": "text/x-python",
   "name": "python",
   "nbconvert_exporter": "python",
   "pygments_lexer": "ipython2",
   "version": "2.7.15"
  }
 },
 "nbformat": 4,
 "nbformat_minor": 2
}
